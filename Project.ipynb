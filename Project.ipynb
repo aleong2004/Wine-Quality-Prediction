{
 "cells": [
  {
   "cell_type": "markdown",
   "id": "1b0a90be-1f00-4eb0-afd0-177b42795b8f",
   "metadata": {},
   "source": [
    "## Project Code"
   ]
  },
  {
   "cell_type": "code",
   "execution_count": 1,
   "id": "53503eee-fc7b-4326-971f-04ab98ce82e9",
   "metadata": {},
   "outputs": [
    {
     "name": "stderr",
     "output_type": "stream",
     "text": [
      "── \u001b[1mAttaching packages\u001b[22m ─────────────────────────────────────── tidyverse 1.3.1 ──\n",
      "\n",
      "\u001b[32m✔\u001b[39m \u001b[34mggplot2\u001b[39m 3.3.6     \u001b[32m✔\u001b[39m \u001b[34mpurrr  \u001b[39m 0.3.4\n",
      "\u001b[32m✔\u001b[39m \u001b[34mtibble \u001b[39m 3.1.7     \u001b[32m✔\u001b[39m \u001b[34mdplyr  \u001b[39m 1.0.9\n",
      "\u001b[32m✔\u001b[39m \u001b[34mtidyr  \u001b[39m 1.2.0     \u001b[32m✔\u001b[39m \u001b[34mstringr\u001b[39m 1.4.0\n",
      "\u001b[32m✔\u001b[39m \u001b[34mreadr  \u001b[39m 2.1.2     \u001b[32m✔\u001b[39m \u001b[34mforcats\u001b[39m 0.5.1\n",
      "\n",
      "── \u001b[1mConflicts\u001b[22m ────────────────────────────────────────── tidyverse_conflicts() ──\n",
      "\u001b[31m✖\u001b[39m \u001b[34mdplyr\u001b[39m::\u001b[32mfilter()\u001b[39m masks \u001b[34mstats\u001b[39m::filter()\n",
      "\u001b[31m✖\u001b[39m \u001b[34mdplyr\u001b[39m::\u001b[32mlag()\u001b[39m    masks \u001b[34mstats\u001b[39m::lag()\n",
      "\n",
      "── \u001b[1mAttaching packages\u001b[22m ────────────────────────────────────── tidymodels 1.0.0 ──\n",
      "\n",
      "\u001b[32m✔\u001b[39m \u001b[34mbroom       \u001b[39m 1.0.0     \u001b[32m✔\u001b[39m \u001b[34mrsample     \u001b[39m 1.0.0\n",
      "\u001b[32m✔\u001b[39m \u001b[34mdials       \u001b[39m 1.0.0     \u001b[32m✔\u001b[39m \u001b[34mtune        \u001b[39m 1.0.0\n",
      "\u001b[32m✔\u001b[39m \u001b[34minfer       \u001b[39m 1.0.2     \u001b[32m✔\u001b[39m \u001b[34mworkflows   \u001b[39m 1.0.0\n",
      "\u001b[32m✔\u001b[39m \u001b[34mmodeldata   \u001b[39m 1.0.0     \u001b[32m✔\u001b[39m \u001b[34mworkflowsets\u001b[39m 1.0.0\n",
      "\u001b[32m✔\u001b[39m \u001b[34mparsnip     \u001b[39m 1.0.0     \u001b[32m✔\u001b[39m \u001b[34myardstick   \u001b[39m 1.0.0\n",
      "\u001b[32m✔\u001b[39m \u001b[34mrecipes     \u001b[39m 1.0.1     \n",
      "\n",
      "── \u001b[1mConflicts\u001b[22m ───────────────────────────────────────── tidymodels_conflicts() ──\n",
      "\u001b[31m✖\u001b[39m \u001b[34mscales\u001b[39m::\u001b[32mdiscard()\u001b[39m masks \u001b[34mpurrr\u001b[39m::discard()\n",
      "\u001b[31m✖\u001b[39m \u001b[34mdplyr\u001b[39m::\u001b[32mfilter()\u001b[39m   masks \u001b[34mstats\u001b[39m::filter()\n",
      "\u001b[31m✖\u001b[39m \u001b[34mrecipes\u001b[39m::\u001b[32mfixed()\u001b[39m  masks \u001b[34mstringr\u001b[39m::fixed()\n",
      "\u001b[31m✖\u001b[39m \u001b[34mdplyr\u001b[39m::\u001b[32mlag()\u001b[39m      masks \u001b[34mstats\u001b[39m::lag()\n",
      "\u001b[31m✖\u001b[39m \u001b[34myardstick\u001b[39m::\u001b[32mspec()\u001b[39m masks \u001b[34mreadr\u001b[39m::spec()\n",
      "\u001b[31m✖\u001b[39m \u001b[34mrecipes\u001b[39m::\u001b[32mstep()\u001b[39m   masks \u001b[34mstats\u001b[39m::step()\n",
      "\u001b[34m•\u001b[39m Search for functions across packages at \u001b[32mhttps://www.tidymodels.org/find/\u001b[39m\n",
      "\n",
      "Updating HTML index of packages in '.Library'\n",
      "\n",
      "Making 'packages.html' ...\n",
      " done\n",
      "\n",
      "corrplot 0.92 loaded\n",
      "\n"
     ]
    }
   ],
   "source": [
    "library(repr)\n",
    "library(tidyverse)\n",
    "library(tidymodels)\n",
    "install.packages(\"corrplot\")\n",
    "library(corrplot)\n",
    "options(repr.matrix.max.rows = 6)"
   ]
  },
  {
   "cell_type": "code",
   "execution_count": 4,
   "id": "f5715610-c93e-434f-855e-2877fffe70b3",
   "metadata": {},
   "outputs": [
    {
     "name": "stderr",
     "output_type": "stream",
     "text": [
      "\u001b[36mℹ\u001b[39m Using \u001b[34m\u001b[34m\"','\"\u001b[34m\u001b[39m as decimal and \u001b[34m\u001b[34m\"'.'\"\u001b[34m\u001b[39m as grouping mark. Use `read_delim()` for more control.\n",
      "\n",
      "Warning message:\n",
      "“One or more parsing issues, see `problems()` for details”\n",
      "\u001b[1mRows: \u001b[22m\u001b[34m1599\u001b[39m \u001b[1mColumns: \u001b[22m\u001b[34m12\u001b[39m\n",
      "\u001b[36m──\u001b[39m \u001b[1mColumn specification\u001b[22m \u001b[36m────────────────────────────────────────────────────────\u001b[39m\n",
      "\u001b[1mDelimiter:\u001b[22m \";\"\n",
      "\u001b[31mchr\u001b[39m (5): volatile acidity, citric acid, chlorides, density, sulphates\n",
      "\u001b[32mdbl\u001b[39m (2): total sulfur dioxide, quality\n",
      "\n",
      "\u001b[36mℹ\u001b[39m Use `spec()` to retrieve the full column specification for this data.\n",
      "\u001b[36mℹ\u001b[39m Specify the column types or set `show_col_types = FALSE` to quiet this message.\n"
     ]
    },
    {
     "data": {
      "text/html": [
       "<table class=\"dataframe\">\n",
       "<caption>A spec_tbl_df: 1599 × 12</caption>\n",
       "<thead>\n",
       "\t<tr><th scope=col>fixed acidity</th><th scope=col>volatile acidity</th><th scope=col>citric acid</th><th scope=col>residual sugar</th><th scope=col>chlorides</th><th scope=col>free sulfur dioxide</th><th scope=col>total sulfur dioxide</th><th scope=col>density</th><th scope=col>pH</th><th scope=col>sulphates</th><th scope=col>alcohol</th><th scope=col>quality</th></tr>\n",
       "\t<tr><th scope=col>&lt;dbl&gt;</th><th scope=col>&lt;chr&gt;</th><th scope=col>&lt;chr&gt;</th><th scope=col>&lt;dbl&gt;</th><th scope=col>&lt;chr&gt;</th><th scope=col>&lt;dbl&gt;</th><th scope=col>&lt;dbl&gt;</th><th scope=col>&lt;chr&gt;</th><th scope=col>&lt;dbl&gt;</th><th scope=col>&lt;chr&gt;</th><th scope=col>&lt;dbl&gt;</th><th scope=col>&lt;dbl&gt;</th></tr>\n",
       "</thead>\n",
       "<tbody>\n",
       "\t<tr><td>74</td><td>0.7 </td><td>0   </td><td>19</td><td>0.076</td><td>11</td><td>34</td><td>0.9978</td><td>351</td><td>0.56</td><td>94</td><td>5</td></tr>\n",
       "\t<tr><td>78</td><td>0.88</td><td>0   </td><td>26</td><td>0.098</td><td>25</td><td>67</td><td>0.9968</td><td> 32</td><td>0.68</td><td>98</td><td>5</td></tr>\n",
       "\t<tr><td>78</td><td>0.76</td><td>0.04</td><td>23</td><td>0.092</td><td>15</td><td>54</td><td>0.997 </td><td>326</td><td>0.65</td><td>98</td><td>5</td></tr>\n",
       "\t<tr><td>⋮</td><td>⋮</td><td>⋮</td><td>⋮</td><td>⋮</td><td>⋮</td><td>⋮</td><td>⋮</td><td>⋮</td><td>⋮</td><td>⋮</td><td>⋮</td></tr>\n",
       "\t<tr><td>63</td><td>0.51 </td><td>0.13</td><td>23</td><td>0.076</td><td>29</td><td>40</td><td>0.99574</td><td>342</td><td>0.75</td><td> 11</td><td>6</td></tr>\n",
       "\t<tr><td>59</td><td>0.645</td><td>0.12</td><td> 2</td><td>0.075</td><td>32</td><td>44</td><td>0.99547</td><td>357</td><td>0.71</td><td>102</td><td>5</td></tr>\n",
       "\t<tr><td> 6</td><td>0.31 </td><td>0.47</td><td>36</td><td>0.067</td><td>18</td><td>42</td><td>0.99549</td><td>339</td><td>0.66</td><td> 11</td><td>6</td></tr>\n",
       "</tbody>\n",
       "</table>\n"
      ],
      "text/latex": [
       "A spec\\_tbl\\_df: 1599 × 12\n",
       "\\begin{tabular}{llllllllllll}\n",
       " fixed acidity & volatile acidity & citric acid & residual sugar & chlorides & free sulfur dioxide & total sulfur dioxide & density & pH & sulphates & alcohol & quality\\\\\n",
       " <dbl> & <chr> & <chr> & <dbl> & <chr> & <dbl> & <dbl> & <chr> & <dbl> & <chr> & <dbl> & <dbl>\\\\\n",
       "\\hline\n",
       "\t 74 & 0.7  & 0    & 19 & 0.076 & 11 & 34 & 0.9978 & 351 & 0.56 & 94 & 5\\\\\n",
       "\t 78 & 0.88 & 0    & 26 & 0.098 & 25 & 67 & 0.9968 &  32 & 0.68 & 98 & 5\\\\\n",
       "\t 78 & 0.76 & 0.04 & 23 & 0.092 & 15 & 54 & 0.997  & 326 & 0.65 & 98 & 5\\\\\n",
       "\t ⋮ & ⋮ & ⋮ & ⋮ & ⋮ & ⋮ & ⋮ & ⋮ & ⋮ & ⋮ & ⋮ & ⋮\\\\\n",
       "\t 63 & 0.51  & 0.13 & 23 & 0.076 & 29 & 40 & 0.99574 & 342 & 0.75 &  11 & 6\\\\\n",
       "\t 59 & 0.645 & 0.12 &  2 & 0.075 & 32 & 44 & 0.99547 & 357 & 0.71 & 102 & 5\\\\\n",
       "\t  6 & 0.31  & 0.47 & 36 & 0.067 & 18 & 42 & 0.99549 & 339 & 0.66 &  11 & 6\\\\\n",
       "\\end{tabular}\n"
      ],
      "text/markdown": [
       "\n",
       "A spec_tbl_df: 1599 × 12\n",
       "\n",
       "| fixed acidity &lt;dbl&gt; | volatile acidity &lt;chr&gt; | citric acid &lt;chr&gt; | residual sugar &lt;dbl&gt; | chlorides &lt;chr&gt; | free sulfur dioxide &lt;dbl&gt; | total sulfur dioxide &lt;dbl&gt; | density &lt;chr&gt; | pH &lt;dbl&gt; | sulphates &lt;chr&gt; | alcohol &lt;dbl&gt; | quality &lt;dbl&gt; |\n",
       "|---|---|---|---|---|---|---|---|---|---|---|---|\n",
       "| 74 | 0.7  | 0    | 19 | 0.076 | 11 | 34 | 0.9978 | 351 | 0.56 | 94 | 5 |\n",
       "| 78 | 0.88 | 0    | 26 | 0.098 | 25 | 67 | 0.9968 |  32 | 0.68 | 98 | 5 |\n",
       "| 78 | 0.76 | 0.04 | 23 | 0.092 | 15 | 54 | 0.997  | 326 | 0.65 | 98 | 5 |\n",
       "| ⋮ | ⋮ | ⋮ | ⋮ | ⋮ | ⋮ | ⋮ | ⋮ | ⋮ | ⋮ | ⋮ | ⋮ |\n",
       "| 63 | 0.51  | 0.13 | 23 | 0.076 | 29 | 40 | 0.99574 | 342 | 0.75 |  11 | 6 |\n",
       "| 59 | 0.645 | 0.12 |  2 | 0.075 | 32 | 44 | 0.99547 | 357 | 0.71 | 102 | 5 |\n",
       "|  6 | 0.31  | 0.47 | 36 | 0.067 | 18 | 42 | 0.99549 | 339 | 0.66 |  11 | 6 |\n",
       "\n"
      ],
      "text/plain": [
       "     fixed acidity volatile acidity citric acid residual sugar chlorides\n",
       "1    74            0.7              0           19             0.076    \n",
       "2    78            0.88             0           26             0.098    \n",
       "3    78            0.76             0.04        23             0.092    \n",
       "⋮    ⋮             ⋮                ⋮           ⋮              ⋮        \n",
       "1597 63            0.51             0.13        23             0.076    \n",
       "1598 59            0.645            0.12         2             0.075    \n",
       "1599  6            0.31             0.47        36             0.067    \n",
       "     free sulfur dioxide total sulfur dioxide density pH  sulphates alcohol\n",
       "1    11                  34                   0.9978  351 0.56      94     \n",
       "2    25                  67                   0.9968   32 0.68      98     \n",
       "3    15                  54                   0.997   326 0.65      98     \n",
       "⋮    ⋮                   ⋮                    ⋮       ⋮   ⋮         ⋮      \n",
       "1597 29                  40                   0.99574 342 0.75       11    \n",
       "1598 32                  44                   0.99547 357 0.71      102    \n",
       "1599 18                  42                   0.99549 339 0.66       11    \n",
       "     quality\n",
       "1    5      \n",
       "2    5      \n",
       "3    5      \n",
       "⋮    ⋮      \n",
       "1597 6      \n",
       "1598 5      \n",
       "1599 6      "
      ]
     },
     "metadata": {},
     "output_type": "display_data"
    }
   ],
   "source": [
    "data = read_csv2(\"data/winequality-red (1).csv\")\n",
    "# data <- data[, c(13, 1, 2, 3,4,5,6,7,8,9,10,11,12)]\n",
    "data"
   ]
  },
  {
   "cell_type": "code",
   "execution_count": 5,
   "id": "1996db6b-6757-4e8f-9ae1-e010ed09f39c",
   "metadata": {},
   "outputs": [
    {
     "ename": "ERROR",
     "evalue": "Error in cor(data): 'x' must be numeric\n",
     "output_type": "error",
     "traceback": [
      "Error in cor(data): 'x' must be numeric\nTraceback:\n",
      "1. cor(data)",
      "2. stop(\"'x' must be numeric\")"
     ]
    }
   ],
   "source": [
    "corr <- cor(data)\n",
    "round(corr, 2)"
   ]
  },
  {
   "cell_type": "code",
   "execution_count": 6,
   "id": "fb3c3c45-7ce5-434a-bc6b-5f2e6a08ab0b",
   "metadata": {},
   "outputs": [
    {
     "ename": "ERROR",
     "evalue": "Error in corrplot(corr, type = \"lower\", tl.col = \"black\", tl.srt = 45): object 'corr' not found\n",
     "output_type": "error",
     "traceback": [
      "Error in corrplot(corr, type = \"lower\", tl.col = \"black\", tl.srt = 45): object 'corr' not found\nTraceback:\n",
      "1. corrplot(corr, type = \"lower\", tl.col = \"black\", tl.srt = 45)"
     ]
    }
   ],
   "source": [
    "corrplot(corr, type = \"lower\", \n",
    "         tl.col = \"black\", tl.srt = 45 )"
   ]
  }
 ],
 "metadata": {
  "kernelspec": {
   "display_name": "R",
   "language": "R",
   "name": "ir"
  },
  "language_info": {
   "codemirror_mode": "r",
   "file_extension": ".r",
   "mimetype": "text/x-r-source",
   "name": "R",
   "pygments_lexer": "r",
   "version": "4.1.3"
  }
 },
 "nbformat": 4,
 "nbformat_minor": 5
}
