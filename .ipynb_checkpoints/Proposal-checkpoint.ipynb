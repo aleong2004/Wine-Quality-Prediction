{
 "cells": [
  {
   "cell_type": "markdown",
   "id": "01aae573-8d4d-423b-a77f-1e40ecfb4c84",
   "metadata": {
    "tags": []
   },
   "source": [
    "\n",
    "# Predicting the Red Wine quality score "
   ]
  },
  {
   "cell_type": "markdown",
   "id": "7d3e6122-59cd-4a05-af47-1344d6b62cbb",
   "metadata": {},
   "source": [
    "**Introduction**"
   ]
  },
  {
   "cell_type": "markdown",
   "id": "2d809358-b5c9-4d92-9c3f-28aa6810e7dc",
   "metadata": {},
   "source": [
    "A 2022 study conducted by John Dunham and Associates found that the wine industry accounts for $276.07 billion economic output in America. While wine is a cornerstone of the US economy, few individuals are actually experts in the subject, with only 269 Master Sommeliers in the world. There is a clear disconnect between the economic impact of wine, and the number of individuals trained to assess a wine's quality, leaving room for restaraunts, liquor stores, and wineries to over (or under) price wines for consumers. During our project, we will be using predictors that could be found by contacting wine producers to see if we can predict the quality [0-10] of a red wine using regression.\n",
    "\n",
    "The dataset chosen was collected by Cortez et al.(2009) for their paper, \"Modeling wine preferences by data mining from physicochemical properties\", in which they modelled wine preference on a scale of 0 [bad] to 10 [excellent].\n"
   ]
  },
  {
   "cell_type": "markdown",
   "id": "88e68a43-fac0-438b-b206-ac953801984d",
   "metadata": {},
   "source": [
    "**Preliminary Exploratory Data Analysis:**\n",
    "\n"
   ]
  },
  {
   "cell_type": "code",
   "execution_count": null,
   "id": "f8dac24d-1d5a-46cd-b911-876457c7dd5d",
   "metadata": {},
   "outputs": [],
   "source": []
  },
  {
   "cell_type": "markdown",
   "id": "6eb96709-5bcb-4b4d-a194-d418252d4f34",
   "metadata": {},
   "source": [
    "**Methods**"
   ]
  },
  {
   "cell_type": "markdown",
   "id": "0433e9eb-5a9d-430d-ba16-e76e4a6b30b8",
   "metadata": {},
   "source": [
    "Building a good model requires a careful selection of relevant predictors. Our dataset contains 11 variables of which many are redundant. We will use both our insights and a correlation matrix to determine which ones to use.  \n",
    "\n",
    "Firstly, alcohol will be used, as ethanol as a compound is known to impact individuals perception of wine flavor, thus influencing percieved quality (Caballero & Segura, 2017). Secondly, total sulfur dioxide will be used, total sulfure dioxide acts as an antioxidant and is necessary in winemaking with probable impacts on quality (Araptisas et al.,  2018).\n",
    "\n",
    "Furthermore the correlation matrix suggest that ## are also significant. The ID is distributed randomly so it does not have an impact and ### are based on the correlation matrix insignificant.  \n",
    "\n",
    "Even though our prediction set consists of 11 values, we will be using regression for pridiction. The values for quality are ordered and the dataset is very unbalanceto use a classfier. Most numbers are in centered around the mean value so we believe using a multiple linear regression with 6 variables shoould give the best results. Rounding our pridicted number to the nearest integer will gives a quality score that could be easily checked by the confusion matrix. We will its the outputs to calculate the accuracy score. \n",
    " "
   ]
  },
  {
   "cell_type": "markdown",
   "id": "345f0189-a474-4422-9352-83ae4d7bda50",
   "metadata": {},
   "source": [
    "**Expected Outcomes and Significance**"
   ]
  },
  {
   "cell_type": "markdown",
   "id": "89e5b194-17b7-4606-95a9-b366cb38c657",
   "metadata": {},
   "source": [
    "We expect to be able to predict the quality of a particular sample, using the chosen predictors(important compounds present in a wine like alcohol, total sulfur dioxide), on a scale of 0(bad) to 10(excellent). \n",
    "\n",
    "Impact of our analysis:\n",
    "High quality wines have intense flavours that last a long time, even after swallowing the wine. This analysis would be helpful to both the consumers and buisnesses like restaurants and hotels. If we find our model has a suitable level of accuracy, consumers could use our model to understand whether they believe they are paying a suitable price for the percieved wine quality, using factors from a wine's ingredients list. This would help consumers single out good quality wine without spending their hard earned money.\n",
    "\n",
    "Buisnesses like hotels and restaurants have thin profit margins. They can use our data analysis to predict the quality of wine and determine how their consumers would percieve it. This would allow them to purchase only the wines that have a good quality and maximise their profits.\n",
    "\n",
    "Future questions: \n",
    "If our data analysis is successful, we can look into other factors that determine the quality of a particular wine like its oriign, growing practices(grapes), winemaking practices, temperature at which it's fermented, age, etc. We can also conduct a data analysis linking price to the quality of wine. \n"
   ]
  },
  {
   "cell_type": "markdown",
   "id": "c2949b81-36ea-436f-acee-22c9aae17834",
   "metadata": {},
   "source": [
    "**Data Sources:**"
   ]
  },
  {
   "cell_type": "markdown",
   "id": "4281a20e-7f2c-4e23-9deb-9f2edaddab5c",
   "metadata": {},
   "source": [
    "https://archive.ics.uci.edu/ml/datasets/wine+quality\n",
    "\n",
    "P. Cortez, A. Cerdeira, F. Almeida, T. Matos and J. Reis.\n",
    "Modeling wine preferences by data mining from physicochemical properties. In Decision Support Systems, Elsevier, 47(4):547-553, 2009.\n",
    "\n",
    "2022 economic impact study of the American wine industry methodology. WineAmerica. (2022, September 21). Retrieved October 28, 2022, from https://wineamerica.org/economic-impact-study/2022-american-wine-industry-methodology/ \n",
    "\n",
    "Members archive. Court of Master Sommeliers Europe. (n.d.). Retrieved October 28, 2022, from https://www.courtofmastersommeliers.org/members/ \n",
    "\n",
    "https://www.ncbi.nlm.nih.gov/pmc/articles/PMC5328826/#:~:text=First%2C%20for%20the%20wine%20industry,sluggish%20or%20even%20stuck%20fermentations.\n",
    "\n",
    "https://www.ncbi.nlm.nih.gov/pmc/articles/PMC5770432/"
   ]
  }
 ],
 "metadata": {
  "kernelspec": {
   "display_name": "R",
   "language": "R",
   "name": "ir"
  },
  "language_info": {
   "codemirror_mode": "r",
   "file_extension": ".r",
   "mimetype": "text/x-r-source",
   "name": "R",
   "pygments_lexer": "r",
   "version": "4.1.3"
  }
 },
 "nbformat": 4,
 "nbformat_minor": 5
}
