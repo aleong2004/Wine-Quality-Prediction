{
 "cells": [
  {
   "cell_type": "code",
   "execution_count": null,
   "id": "68622c94-d4b1-47dc-8a2d-9e7fd9b271fe",
   "metadata": {
    "tags": []
   },
   "outputs": [],
   "source": []
  }
 ],
 "metadata": {
  "kernelspec": {
   "display_name": "R",
   "language": "R",
   "name": "ir"
  },
  "language_info": {
   "codemirror_mode": "r",
   "file_extension": ".r",
   "mimetype": "text/x-r-source",
   "name": "R",
   "pygments_lexer": "r",
   "version": "4.1.3"
  }
 },
 "nbformat": 4,
 "nbformat_minor": 5
}
