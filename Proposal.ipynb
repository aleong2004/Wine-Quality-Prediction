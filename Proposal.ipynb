{
 "cells": [
  {
   "cell_type": "markdown",
   "id": "01aae573-8d4d-423b-a77f-1e40ecfb4c84",
   "metadata": {
    "tags": []
   },
   "source": [
    "Title:\n",
    "\n",
    "Classification of Red Wine Quality "
   ]
  },
  {
   "cell_type": "markdown",
   "id": "2d809358-b5c9-4d92-9c3f-28aa6810e7dc",
   "metadata": {},
   "source": [
    "Introduction:\n",
    "\n",
    "In our classification, we will be using the following variables to create our classification model: [ITEMS]\n",
    "\n",
    "Firstly, alcohol will be used, as ethanol as a compound is known to impact individuals perception of wine flavor, thus influencing percieved quality (Caballero & Segura, 2017). \n",
    "\n",
    "\n",
    "Sources:\n",
    "https://www.ncbi.nlm.nih.gov/pmc/articles/PMC5328826/#:~:text=First%2C%20for%20the%20wine%20industry,sluggish%20or%20even%20stuck%20fermentations.\n"
   ]
  },
  {
   "cell_type": "markdown",
   "id": "88e68a43-fac0-438b-b206-ac953801984d",
   "metadata": {},
   "source": [
    "Preliminary Exploratory Data Analysis:\n",
    "\n"
   ]
  },
  {
   "cell_type": "markdown",
   "id": "0433e9eb-5a9d-430d-ba16-e76e4a6b30b8",
   "metadata": {},
   "source": [
    "Methods:\n",
    "\n"
   ]
  },
  {
   "cell_type": "markdown",
   "id": "89e5b194-17b7-4606-95a9-b366cb38c657",
   "metadata": {},
   "source": [
    "Expected Outcomes and Significance:\n",
    "\n"
   ]
  },
  {
   "cell_type": "markdown",
   "id": "4281a20e-7f2c-4e23-9deb-9f2edaddab5c",
   "metadata": {},
   "source": [
    "Data Source:\n",
    "https://archive.ics.uci.edu/ml/datasets/wine+quality"
   ]
  }
 ],
 "metadata": {
  "kernelspec": {
   "display_name": "R",
   "language": "R",
   "name": "ir"
  },
  "language_info": {
   "codemirror_mode": "r",
   "file_extension": ".r",
   "mimetype": "text/x-r-source",
   "name": "R",
   "pygments_lexer": "r",
   "version": "4.1.3"
  }
 },
 "nbformat": 4,
 "nbformat_minor": 5
}
