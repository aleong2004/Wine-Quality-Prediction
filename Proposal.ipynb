{
 "cells": [
  {
   "cell_type": "markdown",
   "id": "01aae573-8d4d-423b-a77f-1e40ecfb4c84",
   "metadata": {
    "tags": []
   },
   "source": [
    "\n",
    "# Predicting the Red Wine quality score "
   ]
  },
  {
   "cell_type": "markdown",
   "id": "7d3e6122-59cd-4a05-af47-1344d6b62cbb",
   "metadata": {},
   "source": [
    "**Introduction**"
   ]
  },
  {
   "cell_type": "markdown",
   "id": "2d809358-b5c9-4d92-9c3f-28aa6810e7dc",
   "metadata": {},
   "source": [
    "A 2022 study conducted by John Dunham and Associates found that the wine industry accounts for $276.07 billion economic output in America. While wine is a cornerstone of the US economy, few individuals are actually experts in the subject, with only 269 Master Sommeliers in the world. There is a clear disconnect between the economic impact of wine, and the number of individuals trained to assess a wine's quality, leaving room for restaraunts, liquor stores, and wineries to over (or under) price wines for consumers. During our project, we will be using predictors that could be found by contacting wine producers to see if we can predict the quality [0-10] of a red wine using regression.\n",
    "\n",
    "The dataset chosen was collected by Cortez et al.(2009) for their paper, \"Modeling wine preferences by data mining from physicochemical properties\", in which they modelled wine preference on a scale of 0 [bad] to 10 [excellent].\n"
   ]
  },
  {
   "cell_type": "markdown",
   "id": "88e68a43-fac0-438b-b206-ac953801984d",
   "metadata": {},
   "source": [
    "**Preliminary Exploratory Data Analysis:**\n",
    "\n"
   ]
  },
  {
   "cell_type": "code",
   "execution_count": 1,
   "id": "f8dac24d-1d5a-46cd-b911-876457c7dd5d",
   "metadata": {},
   "outputs": [
    {
     "name": "stderr",
     "output_type": "stream",
     "text": [
      "── \u001b[1mAttaching packages\u001b[22m ─────────────────────────────────────── tidyverse 1.3.1 ──\n",
      "\n",
      "\u001b[32m✔\u001b[39m \u001b[34mggplot2\u001b[39m 3.3.6     \u001b[32m✔\u001b[39m \u001b[34mpurrr  \u001b[39m 0.3.4\n",
      "\u001b[32m✔\u001b[39m \u001b[34mtibble \u001b[39m 3.1.7     \u001b[32m✔\u001b[39m \u001b[34mdplyr  \u001b[39m 1.0.9\n",
      "\u001b[32m✔\u001b[39m \u001b[34mtidyr  \u001b[39m 1.2.0     \u001b[32m✔\u001b[39m \u001b[34mstringr\u001b[39m 1.4.0\n",
      "\u001b[32m✔\u001b[39m \u001b[34mreadr  \u001b[39m 2.1.2     \u001b[32m✔\u001b[39m \u001b[34mforcats\u001b[39m 0.5.1\n",
      "\n",
      "── \u001b[1mConflicts\u001b[22m ────────────────────────────────────────── tidyverse_conflicts() ──\n",
      "\u001b[31m✖\u001b[39m \u001b[34mdplyr\u001b[39m::\u001b[32mfilter()\u001b[39m masks \u001b[34mstats\u001b[39m::filter()\n",
      "\u001b[31m✖\u001b[39m \u001b[34mdplyr\u001b[39m::\u001b[32mlag()\u001b[39m    masks \u001b[34mstats\u001b[39m::lag()\n",
      "\n",
      "── \u001b[1mAttaching packages\u001b[22m ────────────────────────────────────── tidymodels 1.0.0 ──\n",
      "\n",
      "\u001b[32m✔\u001b[39m \u001b[34mbroom       \u001b[39m 1.0.0     \u001b[32m✔\u001b[39m \u001b[34mrsample     \u001b[39m 1.0.0\n",
      "\u001b[32m✔\u001b[39m \u001b[34mdials       \u001b[39m 1.0.0     \u001b[32m✔\u001b[39m \u001b[34mtune        \u001b[39m 1.0.0\n",
      "\u001b[32m✔\u001b[39m \u001b[34minfer       \u001b[39m 1.0.2     \u001b[32m✔\u001b[39m \u001b[34mworkflows   \u001b[39m 1.0.0\n",
      "\u001b[32m✔\u001b[39m \u001b[34mmodeldata   \u001b[39m 1.0.0     \u001b[32m✔\u001b[39m \u001b[34mworkflowsets\u001b[39m 1.0.0\n",
      "\u001b[32m✔\u001b[39m \u001b[34mparsnip     \u001b[39m 1.0.0     \u001b[32m✔\u001b[39m \u001b[34myardstick   \u001b[39m 1.0.0\n",
      "\u001b[32m✔\u001b[39m \u001b[34mrecipes     \u001b[39m 1.0.1     \n",
      "\n",
      "── \u001b[1mConflicts\u001b[22m ───────────────────────────────────────── tidymodels_conflicts() ──\n",
      "\u001b[31m✖\u001b[39m \u001b[34mscales\u001b[39m::\u001b[32mdiscard()\u001b[39m masks \u001b[34mpurrr\u001b[39m::discard()\n",
      "\u001b[31m✖\u001b[39m \u001b[34mdplyr\u001b[39m::\u001b[32mfilter()\u001b[39m   masks \u001b[34mstats\u001b[39m::filter()\n",
      "\u001b[31m✖\u001b[39m \u001b[34mrecipes\u001b[39m::\u001b[32mfixed()\u001b[39m  masks \u001b[34mstringr\u001b[39m::fixed()\n",
      "\u001b[31m✖\u001b[39m \u001b[34mdplyr\u001b[39m::\u001b[32mlag()\u001b[39m      masks \u001b[34mstats\u001b[39m::lag()\n",
      "\u001b[31m✖\u001b[39m \u001b[34myardstick\u001b[39m::\u001b[32mspec()\u001b[39m masks \u001b[34mreadr\u001b[39m::spec()\n",
      "\u001b[31m✖\u001b[39m \u001b[34mrecipes\u001b[39m::\u001b[32mstep()\u001b[39m   masks \u001b[34mstats\u001b[39m::step()\n",
      "\u001b[34m•\u001b[39m Search for functions across packages at \u001b[32mhttps://www.tidymodels.org/find/\u001b[39m\n",
      "\n",
      "Updating HTML index of packages in '.Library'\n",
      "\n",
      "Making 'packages.html' ...\n",
      " done\n",
      "\n",
      "corrplot 0.92 loaded\n",
      "\n"
     ]
    }
   ],
   "source": [
    "#loading necessary packages\n",
    "library(repr)\n",
    "library(tidyverse)\n",
    "library(tidymodels)\n",
    "install.packages(\"corrplot\")\n",
    "library(corrplot)\n",
    "options(repr.matrix.max.rows = 6)"
   ]
  },
  {
   "cell_type": "code",
   "execution_count": 2,
   "id": "8d4aef31-0955-41f6-bf15-abdaa011f5b7",
   "metadata": {},
   "outputs": [
    {
     "name": "stderr",
     "output_type": "stream",
     "text": [
      "\u001b[1mRows: \u001b[22m\u001b[34m1599\u001b[39m \u001b[1mColumns: \u001b[22m\u001b[34m12\u001b[39m\n",
      "\u001b[36m──\u001b[39m \u001b[1mColumn specification\u001b[22m \u001b[36m────────────────────────────────────────────────────────\u001b[39m\n",
      "\u001b[1mDelimiter:\u001b[22m \";\"\n",
      "\u001b[32mdbl\u001b[39m (12): fixed_acidity, volatile_acidity, citric_acid, residual_sugar, chlo...\n",
      "\n",
      "\u001b[36mℹ\u001b[39m Use `spec()` to retrieve the full column specification for this data.\n",
      "\u001b[36mℹ\u001b[39m Specify the column types or set `show_col_types = FALSE` to quiet this message.\n"
     ]
    },
    {
     "data": {
      "text/html": [
       "<table class=\"dataframe\">\n",
       "<caption>A tibble: 1599 × 12</caption>\n",
       "<thead>\n",
       "\t<tr><th scope=col>fixed_acidity</th><th scope=col>volatile_acidity</th><th scope=col>citric_acid</th><th scope=col>residual_sugar</th><th scope=col>chlorides</th><th scope=col>free_sulfur_dioxide</th><th scope=col>total_sulfur_dioxide</th><th scope=col>density</th><th scope=col>pH</th><th scope=col>sulphates</th><th scope=col>alcohol</th><th scope=col>quality</th></tr>\n",
       "\t<tr><th scope=col>&lt;dbl&gt;</th><th scope=col>&lt;dbl&gt;</th><th scope=col>&lt;dbl&gt;</th><th scope=col>&lt;dbl&gt;</th><th scope=col>&lt;dbl&gt;</th><th scope=col>&lt;dbl&gt;</th><th scope=col>&lt;dbl&gt;</th><th scope=col>&lt;dbl&gt;</th><th scope=col>&lt;dbl&gt;</th><th scope=col>&lt;dbl&gt;</th><th scope=col>&lt;dbl&gt;</th><th scope=col>&lt;dbl&gt;</th></tr>\n",
       "</thead>\n",
       "<tbody>\n",
       "\t<tr><td>7.4</td><td>0.70</td><td>0.00</td><td>1.9</td><td>0.076</td><td>11</td><td>34</td><td>0.9978</td><td>3.51</td><td>0.56</td><td>9.4</td><td>5</td></tr>\n",
       "\t<tr><td>7.8</td><td>0.88</td><td>0.00</td><td>2.6</td><td>0.098</td><td>25</td><td>67</td><td>0.9968</td><td>3.20</td><td>0.68</td><td>9.8</td><td>5</td></tr>\n",
       "\t<tr><td>7.8</td><td>0.76</td><td>0.04</td><td>2.3</td><td>0.092</td><td>15</td><td>54</td><td>0.9970</td><td>3.26</td><td>0.65</td><td>9.8</td><td>5</td></tr>\n",
       "\t<tr><td>⋮</td><td>⋮</td><td>⋮</td><td>⋮</td><td>⋮</td><td>⋮</td><td>⋮</td><td>⋮</td><td>⋮</td><td>⋮</td><td>⋮</td><td>⋮</td></tr>\n",
       "\t<tr><td>6.3</td><td>0.510</td><td>0.13</td><td>2.3</td><td>0.076</td><td>29</td><td>40</td><td>0.99574</td><td>3.42</td><td>0.75</td><td>11.0</td><td>6</td></tr>\n",
       "\t<tr><td>5.9</td><td>0.645</td><td>0.12</td><td>2.0</td><td>0.075</td><td>32</td><td>44</td><td>0.99547</td><td>3.57</td><td>0.71</td><td>10.2</td><td>5</td></tr>\n",
       "\t<tr><td>6.0</td><td>0.310</td><td>0.47</td><td>3.6</td><td>0.067</td><td>18</td><td>42</td><td>0.99549</td><td>3.39</td><td>0.66</td><td>11.0</td><td>6</td></tr>\n",
       "</tbody>\n",
       "</table>\n"
      ],
      "text/latex": [
       "A tibble: 1599 × 12\n",
       "\\begin{tabular}{llllllllllll}\n",
       " fixed\\_acidity & volatile\\_acidity & citric\\_acid & residual\\_sugar & chlorides & free\\_sulfur\\_dioxide & total\\_sulfur\\_dioxide & density & pH & sulphates & alcohol & quality\\\\\n",
       " <dbl> & <dbl> & <dbl> & <dbl> & <dbl> & <dbl> & <dbl> & <dbl> & <dbl> & <dbl> & <dbl> & <dbl>\\\\\n",
       "\\hline\n",
       "\t 7.4 & 0.70 & 0.00 & 1.9 & 0.076 & 11 & 34 & 0.9978 & 3.51 & 0.56 & 9.4 & 5\\\\\n",
       "\t 7.8 & 0.88 & 0.00 & 2.6 & 0.098 & 25 & 67 & 0.9968 & 3.20 & 0.68 & 9.8 & 5\\\\\n",
       "\t 7.8 & 0.76 & 0.04 & 2.3 & 0.092 & 15 & 54 & 0.9970 & 3.26 & 0.65 & 9.8 & 5\\\\\n",
       "\t ⋮ & ⋮ & ⋮ & ⋮ & ⋮ & ⋮ & ⋮ & ⋮ & ⋮ & ⋮ & ⋮ & ⋮\\\\\n",
       "\t 6.3 & 0.510 & 0.13 & 2.3 & 0.076 & 29 & 40 & 0.99574 & 3.42 & 0.75 & 11.0 & 6\\\\\n",
       "\t 5.9 & 0.645 & 0.12 & 2.0 & 0.075 & 32 & 44 & 0.99547 & 3.57 & 0.71 & 10.2 & 5\\\\\n",
       "\t 6.0 & 0.310 & 0.47 & 3.6 & 0.067 & 18 & 42 & 0.99549 & 3.39 & 0.66 & 11.0 & 6\\\\\n",
       "\\end{tabular}\n"
      ],
      "text/markdown": [
       "\n",
       "A tibble: 1599 × 12\n",
       "\n",
       "| fixed_acidity &lt;dbl&gt; | volatile_acidity &lt;dbl&gt; | citric_acid &lt;dbl&gt; | residual_sugar &lt;dbl&gt; | chlorides &lt;dbl&gt; | free_sulfur_dioxide &lt;dbl&gt; | total_sulfur_dioxide &lt;dbl&gt; | density &lt;dbl&gt; | pH &lt;dbl&gt; | sulphates &lt;dbl&gt; | alcohol &lt;dbl&gt; | quality &lt;dbl&gt; |\n",
       "|---|---|---|---|---|---|---|---|---|---|---|---|\n",
       "| 7.4 | 0.70 | 0.00 | 1.9 | 0.076 | 11 | 34 | 0.9978 | 3.51 | 0.56 | 9.4 | 5 |\n",
       "| 7.8 | 0.88 | 0.00 | 2.6 | 0.098 | 25 | 67 | 0.9968 | 3.20 | 0.68 | 9.8 | 5 |\n",
       "| 7.8 | 0.76 | 0.04 | 2.3 | 0.092 | 15 | 54 | 0.9970 | 3.26 | 0.65 | 9.8 | 5 |\n",
       "| ⋮ | ⋮ | ⋮ | ⋮ | ⋮ | ⋮ | ⋮ | ⋮ | ⋮ | ⋮ | ⋮ | ⋮ |\n",
       "| 6.3 | 0.510 | 0.13 | 2.3 | 0.076 | 29 | 40 | 0.99574 | 3.42 | 0.75 | 11.0 | 6 |\n",
       "| 5.9 | 0.645 | 0.12 | 2.0 | 0.075 | 32 | 44 | 0.99547 | 3.57 | 0.71 | 10.2 | 5 |\n",
       "| 6.0 | 0.310 | 0.47 | 3.6 | 0.067 | 18 | 42 | 0.99549 | 3.39 | 0.66 | 11.0 | 6 |\n",
       "\n"
      ],
      "text/plain": [
       "     fixed_acidity volatile_acidity citric_acid residual_sugar chlorides\n",
       "1    7.4           0.70             0.00        1.9            0.076    \n",
       "2    7.8           0.88             0.00        2.6            0.098    \n",
       "3    7.8           0.76             0.04        2.3            0.092    \n",
       "⋮    ⋮             ⋮                ⋮           ⋮              ⋮        \n",
       "1597 6.3           0.510            0.13        2.3            0.076    \n",
       "1598 5.9           0.645            0.12        2.0            0.075    \n",
       "1599 6.0           0.310            0.47        3.6            0.067    \n",
       "     free_sulfur_dioxide total_sulfur_dioxide density pH   sulphates alcohol\n",
       "1    11                  34                   0.9978  3.51 0.56      9.4    \n",
       "2    25                  67                   0.9968  3.20 0.68      9.8    \n",
       "3    15                  54                   0.9970  3.26 0.65      9.8    \n",
       "⋮    ⋮                   ⋮                    ⋮       ⋮    ⋮         ⋮      \n",
       "1597 29                  40                   0.99574 3.42 0.75      11.0   \n",
       "1598 32                  44                   0.99547 3.57 0.71      10.2   \n",
       "1599 18                  42                   0.99549 3.39 0.66      11.0   \n",
       "     quality\n",
       "1    5      \n",
       "2    5      \n",
       "3    5      \n",
       "⋮    ⋮      \n",
       "1597 6      \n",
       "1598 5      \n",
       "1599 6      "
      ]
     },
     "metadata": {},
     "output_type": "display_data"
    }
   ],
   "source": [
    "url <- \"https://archive.ics.uci.edu/ml/machine-learning-databases/wine-quality/winequality-red.csv\"\n",
    "wine_data <- read_delim(url, skip = 1, delim = \";\",\n",
    "                       col_names = c(\"fixed_acidity\",\n",
    "                                     \"volatile_acidity\",\n",
    "                                     \"citric_acid\",\n",
    "                                     \"residual_sugar\",\n",
    "                                     \"chlorides\",\n",
    "                                     \"free_sulfur_dioxide\",\n",
    "                                     \"total_sulfur_dioxide\",\n",
    "                                     \"density\",\n",
    "                                     \"pH\",\n",
    "                                     \"sulphates\",\n",
    "                                     \"alcohol\",\n",
    "                                     \"quality\")) |>\n",
    "              mutate(across(\"fixed_acidity\":\"quality\", as.numeric))\n",
    "wine_data\n",
    "\n",
    "#reading wine_data"
   ]
  },
  {
   "cell_type": "code",
   "execution_count": 3,
   "id": "37932260-bca9-4227-84fc-afb87384e4c5",
   "metadata": {},
   "outputs": [],
   "source": [
    "wine_split <- initial_split(wine_data, prop = 0.75, strata = quality)\n",
    "wine_training <- training(wine_split)\n",
    "wine_testing <- testing(wine_split)\n",
    "\n",
    "#splitting wine data into training/testing"
   ]
  },
  {
   "cell_type": "code",
   "execution_count": 4,
   "id": "e8ddb7ae-e296-492a-8424-dceeaa6b43a6",
   "metadata": {},
   "outputs": [
    {
     "data": {
      "text/html": [
       "<table class=\"dataframe\">\n",
       "<caption>A tibble: 3 × 12</caption>\n",
       "<thead>\n",
       "\t<tr><th scope=col>fixed_acidity</th><th scope=col>volatile_acidity</th><th scope=col>citric_acid</th><th scope=col>residual_sugar</th><th scope=col>chlorides</th><th scope=col>free_sulfur_dioxide</th><th scope=col>total_sulfur_dioxide</th><th scope=col>density</th><th scope=col>pH</th><th scope=col>sulphates</th><th scope=col>alcohol</th><th scope=col>quality</th></tr>\n",
       "\t<tr><th scope=col>&lt;dbl&gt;</th><th scope=col>&lt;dbl&gt;</th><th scope=col>&lt;dbl&gt;</th><th scope=col>&lt;dbl&gt;</th><th scope=col>&lt;dbl&gt;</th><th scope=col>&lt;dbl&gt;</th><th scope=col>&lt;dbl&gt;</th><th scope=col>&lt;dbl&gt;</th><th scope=col>&lt;dbl&gt;</th><th scope=col>&lt;dbl&gt;</th><th scope=col>&lt;dbl&gt;</th><th scope=col>&lt;dbl&gt;</th></tr>\n",
       "</thead>\n",
       "<tbody>\n",
       "\t<tr><td> 4.600000</td><td>0.1200000</td><td>0.0000000</td><td> 0.900000</td><td>0.01200000</td><td> 1.00000</td><td>  6.00000</td><td>0.9900700</td><td>2.740000</td><td>0.3700000</td><td> 8.40000</td><td>3.000000</td></tr>\n",
       "\t<tr><td> 8.345075</td><td>0.5270451</td><td>0.2699332</td><td> 2.511352</td><td>0.08760434</td><td>15.42571</td><td> 45.23748</td><td>0.9967424</td><td>3.309391</td><td>0.6560434</td><td>10.43047</td><td>5.631886</td></tr>\n",
       "\t<tr><td>15.600000</td><td>1.5800000</td><td>1.0000000</td><td>15.500000</td><td>0.61100000</td><td>72.00000</td><td>278.00000</td><td>1.0036900</td><td>4.010000</td><td>2.0000000</td><td>14.00000</td><td>8.000000</td></tr>\n",
       "</tbody>\n",
       "</table>\n"
      ],
      "text/latex": [
       "A tibble: 3 × 12\n",
       "\\begin{tabular}{llllllllllll}\n",
       " fixed\\_acidity & volatile\\_acidity & citric\\_acid & residual\\_sugar & chlorides & free\\_sulfur\\_dioxide & total\\_sulfur\\_dioxide & density & pH & sulphates & alcohol & quality\\\\\n",
       " <dbl> & <dbl> & <dbl> & <dbl> & <dbl> & <dbl> & <dbl> & <dbl> & <dbl> & <dbl> & <dbl> & <dbl>\\\\\n",
       "\\hline\n",
       "\t  4.600000 & 0.1200000 & 0.0000000 &  0.900000 & 0.01200000 &  1.00000 &   6.00000 & 0.9900700 & 2.740000 & 0.3700000 &  8.40000 & 3.000000\\\\\n",
       "\t  8.345075 & 0.5270451 & 0.2699332 &  2.511352 & 0.08760434 & 15.42571 &  45.23748 & 0.9967424 & 3.309391 & 0.6560434 & 10.43047 & 5.631886\\\\\n",
       "\t 15.600000 & 1.5800000 & 1.0000000 & 15.500000 & 0.61100000 & 72.00000 & 278.00000 & 1.0036900 & 4.010000 & 2.0000000 & 14.00000 & 8.000000\\\\\n",
       "\\end{tabular}\n"
      ],
      "text/markdown": [
       "\n",
       "A tibble: 3 × 12\n",
       "\n",
       "| fixed_acidity &lt;dbl&gt; | volatile_acidity &lt;dbl&gt; | citric_acid &lt;dbl&gt; | residual_sugar &lt;dbl&gt; | chlorides &lt;dbl&gt; | free_sulfur_dioxide &lt;dbl&gt; | total_sulfur_dioxide &lt;dbl&gt; | density &lt;dbl&gt; | pH &lt;dbl&gt; | sulphates &lt;dbl&gt; | alcohol &lt;dbl&gt; | quality &lt;dbl&gt; |\n",
       "|---|---|---|---|---|---|---|---|---|---|---|---|\n",
       "|  4.600000 | 0.1200000 | 0.0000000 |  0.900000 | 0.01200000 |  1.00000 |   6.00000 | 0.9900700 | 2.740000 | 0.3700000 |  8.40000 | 3.000000 |\n",
       "|  8.345075 | 0.5270451 | 0.2699332 |  2.511352 | 0.08760434 | 15.42571 |  45.23748 | 0.9967424 | 3.309391 | 0.6560434 | 10.43047 | 5.631886 |\n",
       "| 15.600000 | 1.5800000 | 1.0000000 | 15.500000 | 0.61100000 | 72.00000 | 278.00000 | 1.0036900 | 4.010000 | 2.0000000 | 14.00000 | 8.000000 |\n",
       "\n"
      ],
      "text/plain": [
       "  fixed_acidity volatile_acidity citric_acid residual_sugar chlorides \n",
       "1  4.600000     0.1200000        0.0000000    0.900000      0.01200000\n",
       "2  8.345075     0.5270451        0.2699332    2.511352      0.08760434\n",
       "3 15.600000     1.5800000        1.0000000   15.500000      0.61100000\n",
       "  free_sulfur_dioxide total_sulfur_dioxide density   pH       sulphates\n",
       "1  1.00000              6.00000            0.9900700 2.740000 0.3700000\n",
       "2 15.42571             45.23748            0.9967424 3.309391 0.6560434\n",
       "3 72.00000            278.00000            1.0036900 4.010000 2.0000000\n",
       "  alcohol  quality \n",
       "1  8.40000 3.000000\n",
       "2 10.43047 5.631886\n",
       "3 14.00000 8.000000"
      ]
     },
     "metadata": {},
     "output_type": "display_data"
    }
   ],
   "source": [
    "#cleaning wine data\n",
    "\n",
    "wine_max <- wine_training |>\n",
    "            summarize(across(\"fixed_acidity\":\"quality\", max, na.rm = TRUE))\n",
    "\n",
    "wine_min <- wine_training |>\n",
    "            summarize(across(\"fixed_acidity\":\"quality\", min, na.rm = TRUE))\n",
    "\n",
    "wine_mean <- wine_training |>\n",
    "             summarize(across(\"fixed_acidity\":\"quality\", mean, na.rm = TRUE))\n",
    "\n",
    "wine_summary <- bind_rows(wine_min, wine_mean, wine_max)\n",
    "wine_summary"
   ]
  },
  {
   "cell_type": "code",
   "execution_count": 6,
   "id": "b813b147-e36b-436a-a1a9-57781181280a",
   "metadata": {},
   "outputs": [
    {
     "ename": "ERROR",
     "evalue": "Error in cor(data): supply both 'x' and 'y' or a matrix-like 'x'\n",
     "output_type": "error",
     "traceback": [
      "Error in cor(data): supply both 'x' and 'y' or a matrix-like 'x'\nTraceback:\n",
      "1. cor(data)",
      "2. stop(\"supply both 'x' and 'y' or a matrix-like 'x'\")"
     ]
    }
   ],
   "source": [
    "corr <- cor(data)\n",
    "round(corr, 2)\n",
    "corrplot(corr, type = \"lower\", \n",
    "         tl.col = \"black\", tl.srt = 45 )"
   ]
  },
  {
   "cell_type": "markdown",
   "id": "6eb96709-5bcb-4b4d-a194-d418252d4f34",
   "metadata": {},
   "source": [
    "**Methods**"
   ]
  },
  {
   "cell_type": "markdown",
   "id": "0433e9eb-5a9d-430d-ba16-e76e4a6b30b8",
   "metadata": {},
   "source": [
    "Building a good model requires a careful selection of relevant predictors. Our dataset contains 11 variables of which many are redundant. We will use both our insights and a correlation matrix to determine which ones to use.  \n",
    "\n",
    "Firstly, alcohol will be used, since it is known to impact individuals perception of wine flavor, thus influencing percieved quality (Caballero & Segura, 2017). Secondly, total sulfure dioxide acts as an antioxidant with probable impacts on quality  (Araptisas et al.,  2018). The correlation matrix also suggest that sulphates, volatile_acidity, citric_acid and density are significant. The ID is distributed randomly so it does not have an impact.\n",
    "\n",
    "\n",
    "Even though our prediction set consists of 11 integer values, we will be using regression for prediction. The quality values are ordered and the dataset is too unbalance, with most of the values centered around the mean value, to use a classfier. We believe using a multiple linear regression with 6 regressors should provide us with the best results. Rounding our predicted number to the nearest integer will give us a quality score that could be easily checked by the confusion matrix. We will then use the values to calculate the accuracy score. \n",
    " "
   ]
  },
  {
   "cell_type": "markdown",
   "id": "345f0189-a474-4422-9352-83ae4d7bda50",
   "metadata": {},
   "source": [
    "**Expected Outcomes and Significance**"
   ]
  },
  {
   "cell_type": "markdown",
   "id": "89e5b194-17b7-4606-95a9-b366cb38c657",
   "metadata": {},
   "source": [
    "We expect to be able to predict the quality of a particular sample, on a scale of 0(bad) to 10(excellent). \n",
    "\n",
    "This analysis will be helpful to both winemakers and businesses. Winemakers could use our model to better understand what is a high quality wine, what they can use to engineer a mroe enjoyable wine without the wasteful trial and error. Businesses like hotels and restaurants could also predict the quality of wine if it is unknown to purchase only the wines that have good quality to maximise their profits.\n",
    " \n",
    "If our data analysis is successful, we can look into other factors that determine the quality of a particular wine like its origin, growing practices(grapes), winemaking practices, the temperature at which it's fermented, age, etc. We can also conduct a data analysis linking price to the quality of the wine. "
   ]
  },
  {
   "cell_type": "markdown",
   "id": "c2949b81-36ea-436f-acee-22c9aae17834",
   "metadata": {},
   "source": [
    "**Data Sources:**"
   ]
  },
  {
   "cell_type": "markdown",
   "id": "4281a20e-7f2c-4e23-9deb-9f2edaddab5c",
   "metadata": {},
   "source": [
    "https://archive.ics.uci.edu/ml/datasets/wine+quality\n",
    "\n",
    "P. Cortez, A. Cerdeira, F. Almeida, T. Matos and J. Reis.\n",
    "Modeling wine preferences by data mining from physicochemical properties. In Decision Support Systems, Elsevier, 47(4):547-553, 2009.\n",
    "\n",
    "2022 economic impact study of the American wine industry methodology. WineAmerica. (2022, September 21). Retrieved October 28, 2022, from https://wineamerica.org/economic-impact-study/2022-american-wine-industry-methodology/ \n",
    "\n",
    "Members archive. Court of Master Sommeliers Europe. (n.d.). Retrieved October 28, 2022, from https://www.courtofmastersommeliers.org/members/ \n",
    "\n",
    "https://www.ncbi.nlm.nih.gov/pmc/articles/PMC5328826/#:~:text=First%2C%20for%20the%20wine%20industry,sluggish%20or%20even%20stuck%20fermentations.\n",
    "\n",
    "https://www.ncbi.nlm.nih.gov/pmc/articles/PMC5770432/"
   ]
  }
 ],
 "metadata": {
  "kernelspec": {
   "display_name": "R",
   "language": "R",
   "name": "ir"
  },
  "language_info": {
   "codemirror_mode": "r",
   "file_extension": ".r",
   "mimetype": "text/x-r-source",
   "name": "R",
   "pygments_lexer": "r",
   "version": "4.1.3"
  }
 },
 "nbformat": 4,
 "nbformat_minor": 5
}
